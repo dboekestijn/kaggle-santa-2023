{
 "cells": [
  {
   "cell_type": "markdown",
   "source": [
    "### Handle imports"
   ],
   "metadata": {
    "collapsed": false
   },
   "id": "acb3f8de434e9fa"
  },
  {
   "cell_type": "code",
   "execution_count": null,
   "outputs": [],
   "source": [
    "import csv\n",
    "import json\n",
    "import os\n",
    "import sys\n",
    "import time\n",
    "\n",
    "import numpy as np\n",
    "from tqdm.auto import tqdm"
   ],
   "metadata": {
    "collapsed": false
   },
   "id": "41286168ef0dab02"
  },
  {
   "cell_type": "markdown",
   "source": [
    "### Define Puzzle objects"
   ],
   "metadata": {
    "collapsed": false
   },
   "id": "95b194ce61f53ffe"
  },
  {
   "cell_type": "code",
   "execution_count": null,
   "outputs": [],
   "source": [
    "class Move:\n",
    "    \n",
    "    def __init__(self, name: str, permutation: np.ndarray):\n",
    "        self.name = name\n",
    "        self.permutation = permutation\n",
    "    \n",
    "    def get_reverse(self):\n",
    "        assert not self.name.startswith(\"-\"), \"move is already a reverse move\"\n",
    "        return Move(\"-\" + self.name, np.argsort(self.permutation))\n",
    "    \n",
    "    def get_zero_move(self):\n",
    "        return Move(\"0\", np.arange(len(self.permutation)))\n",
    "    \n",
    "    def __getitem__(self, i):\n",
    "        return self.permutation[i]\n",
    "        \n",
    "    def __call__(self, a: np.ndarray, inplace: bool = True):\n",
    "        assert isinstance(a, np.ndarray), \"argument must be a numpy array\"\n",
    "        if inplace:\n",
    "            a[:] = a[self.permutation]\n",
    "        else:\n",
    "            return a[self.permutation]\n",
    "        \n",
    "        \n",
    "class MoveSet:\n",
    "    \n",
    "    class MoveSetIter:\n",
    "        \n",
    "        def __init__(self, *moves: Move):\n",
    "            self.moves = list(moves)\n",
    "            self.index, self.stop_index = -1, len(moves)\n",
    "            \n",
    "        def __next__(self):\n",
    "            self.index += 1\n",
    "            if self.index == self.stop_index:\n",
    "                raise StopIteration\n",
    "            return self.moves[self.index]\n",
    "        \n",
    "        def __iter__(self):\n",
    "            return self\n",
    "            \n",
    "    \n",
    "    def __init__(self, type_: str, *moves: Move):\n",
    "        self.type_ = type_\n",
    "        self.moves = {\n",
    "            move.name: move\n",
    "            for move in moves\n",
    "        }\n",
    "        \n",
    "    def __iter__(self):\n",
    "        return iter(MoveSet.MoveSetIter(*self.moves.values()))\n",
    "        \n",
    "    def __getitem__(self, name: str):\n",
    "        return self.moves[name]\n",
    "    \n",
    "    def __len__(self):\n",
    "        return len(self.moves)\n",
    "\n",
    "\n",
    "class Puzzle:\n",
    "    \n",
    "    def __init__(self, id: int, type_: str, \n",
    "                 solution: np.ndarray, initial_state: np.ndarray, \n",
    "                 num_wildcards: int):\n",
    "        self.id = id\n",
    "        self.type_ = type_\n",
    "        self.solution = solution\n",
    "        self.initial_state = initial_state\n",
    "        self.current_state = initial_state\n",
    "        self.num_wildcards = num_wildcards\n",
    "        \n",
    "        self.solution_path: list[np.ndarray] = [initial_state]\n",
    "        self.applied_moves: list[np.ndarray] = []\n",
    "        \n",
    "    def apply_moves(self, *moves: Move):\n",
    "        for move in moves:\n",
    "            self.current_state = move(self.current_state, inplace=False)\n",
    "            self.solution_path.append(self.current_state)\n",
    "            self.applied_moves.append(move.permutation.copy())\n",
    "        \n",
    "    def print_solution_path(self, include_moves: bool = False, symbol_dict: dict[int, str] | None = None):\n",
    "        n_moves = len(self.applied_moves)\n",
    "        for i, state in enumerate(self.solution_path):\n",
    "            print(f\"State {i}:\", end=\"\")\n",
    "            if symbol_dict is not None:\n",
    "                print([symbol_dict[s] for s in state], end=\"\")\n",
    "            else:\n",
    "                print(state, end=\"\")\n",
    "            print()\n",
    "            \n",
    "            if include_moves and i < n_moves:\n",
    "                print(f\"\\tMove ({i}->{i+1}):\", self.applied_moves[i])\n",
    "                \n",
    "    def is_solved(self) -> bool:\n",
    "        return np.array_equal(self.current_state, self.solution)\n",
    "                \n",
    "    def reset(self):\n",
    "        self.current_state = self.initial_state\n",
    "        self.solution_path = [self.initial_state]\n",
    "        self.applied_moves = []\n",
    "        \n",
    "    def __len__(self):    \n",
    "        return len(self.solution)\n",
    "                "
   ],
   "metadata": {
    "collapsed": false
   },
   "id": "91d4855eba8de2e9"
  },
  {
   "cell_type": "markdown",
   "source": [
    "### Load data"
   ],
   "metadata": {
    "collapsed": false
   },
   "id": "372883232c255cbd"
  },
  {
   "cell_type": "code",
   "execution_count": null,
   "outputs": [],
   "source": [
    "def get_reader(path: str):\n",
    "    return csv.reader(open(path, mode=\"r\", encoding=\"utf-8\"), delimiter=\",\")\n"
   ],
   "metadata": {
    "collapsed": false
   },
   "id": "a1f5bd54a2c98275"
  },
  {
   "cell_type": "markdown",
   "source": [
    "Map symbols (strings) to ids (integers)"
   ],
   "metadata": {
    "collapsed": false
   },
   "id": "77c1cc4043f5c4cf"
  },
  {
   "cell_type": "code",
   "execution_count": null,
   "outputs": [],
   "source": [
    "reader = get_reader(\"data/puzzles.csv\")\n",
    "next(reader)  # skip header\n",
    "\n",
    "symid_symbol: dict[int, str] = dict()\n",
    "symbol_symid: dict[str, int] = dict()\n",
    "symid: int = 0\n",
    "for line in reader:\n",
    "    solution_state = line[2].split(\";\")\n",
    "    for symbol in solution_state:\n",
    "        if symbol not in symbol_symid:\n",
    "            symid += 1\n",
    "            symbol_symid[symbol] = symid\n",
    "            symid_symbol[symid] = symbol\n"
   ],
   "metadata": {
    "collapsed": false
   },
   "id": "8a5ca4c30b02ec70"
  },
  {
   "cell_type": "markdown",
   "source": [
    "Load puzzles"
   ],
   "metadata": {
    "collapsed": false
   },
   "id": "e8e81de873e1f2c2"
  },
  {
   "cell_type": "code",
   "execution_count": null,
   "outputs": [],
   "source": [
    "reader = get_reader(\"data/puzzles.csv\")\n",
    "next(reader)  # skip header\n",
    "\n",
    "id_puzzle: dict[int, Puzzle] = dict()\n",
    "for line in reader:\n",
    "    id = int(line[0])\n",
    "    type_ = line[1]\n",
    "    solution = np.array([symbol_symid[symbol] for symbol in line[2].split(\";\")])\n",
    "    state = np.array([symbol_symid[symbol] for symbol in line[3].split(\";\")])\n",
    "    num_wildcards = int(line[4])\n",
    "    \n",
    "    id_puzzle[id] = Puzzle(id, type_, solution, state, num_wildcards)\n"
   ],
   "metadata": {
    "collapsed": false
   },
   "id": "c25f1b07e649f9bf"
  },
  {
   "cell_type": "markdown",
   "source": [
    "Load moves"
   ],
   "metadata": {
    "collapsed": false
   },
   "id": "12bede9e91a2b94e"
  },
  {
   "cell_type": "code",
   "execution_count": null,
   "outputs": [],
   "source": [
    "# set csv max field size to handle reading in the puzzle info\n",
    "csv_limit = sys.maxsize\n",
    "while True:\n",
    "    try:\n",
    "        csv.field_size_limit(csv_limit)\n",
    "        break\n",
    "    except OverflowError:\n",
    "        csv_limit = int(csv_limit / 10)\n",
    "        \n",
    "# read puzzle info\n",
    "reader = get_reader(\"data/puzzle_info.csv\")\n",
    "next(reader)  # skip header\n",
    "\n",
    "type_moveset: dict[str, MoveSet] = dict()\n",
    "for line in reader:\n",
    "    type_ = line[0]\n",
    "    moves = json.loads(line[1].replace(\"'\", '\"'), )\n",
    "    move_objects = []\n",
    "    for name, permutation in moves.items():\n",
    "        move = Move(name, np.array(permutation))\n",
    "        reverse_move = move.get_reverse()\n",
    "        move_objects.append(move)\n",
    "        move_objects.append(reverse_move)\n",
    "        \n",
    "    if type_ in type_moveset:\n",
    "        raise AssertionError(f\"type {type_} already in type_moveset\")\n",
    "    \n",
    "    type_moveset[type_] = MoveSet(type_, *move_objects)"
   ],
   "metadata": {
    "collapsed": false
   },
   "id": "8ad33d830e98df7a"
  },
  {
   "cell_type": "markdown",
   "source": [
    "Load sample submission"
   ],
   "metadata": {
    "collapsed": false
   },
   "id": "6e6100132bbe228d"
  },
  {
   "cell_type": "code",
   "execution_count": null,
   "outputs": [],
   "source": [
    "puzzleid_moveids: dict[int, list[str]] = dict()\n",
    "reader = get_reader(\"submissions/sample_submission.csv\")\n",
    "next(reader)  # skip header\n",
    "\n",
    "for line in reader:\n",
    "    id = int(line[0])\n",
    "    moveids = line[1].split(\".\")\n",
    "    puzzleid_moveids[id] = moveids\n",
    "    "
   ],
   "metadata": {
    "collapsed": false
   },
   "id": "f1d3d5555f985d4b"
  },
  {
   "cell_type": "markdown",
   "source": [
    "Verify sample submission"
   ],
   "metadata": {
    "collapsed": false
   },
   "id": "6293be50ccf3aeaa"
  },
  {
   "cell_type": "code",
   "execution_count": null,
   "outputs": [],
   "source": [
    "def score_submission(puzzleid_moveids: dict[int, list[str]]):\n",
    "    score = 0\n",
    "    for id, moveids in tqdm(puzzleid_moveids.items()):\n",
    "        puzzle = id_puzzle[id]\n",
    "        puzzle.reset()\n",
    "        \n",
    "        moveset = type_moveset[puzzle.type_]\n",
    "        for moveid in moveids:\n",
    "            try:\n",
    "                puzzle.apply_moves(moveset[moveid])\n",
    "            except KeyError:\n",
    "                raise AssertionError(f\"move with id {moveid} is not an allowed move for puzzle {id}\")\n",
    "        num_wrong_facelets = np.sum(puzzle.solution != puzzle.current_state)\n",
    "        if num_wrong_facelets > puzzle.num_wildcards:\n",
    "            raise AssertionError(f\"submitted moves do not solve puzzle {id}\")\n",
    "        \n",
    "        puzzle.reset()\n",
    "        \n",
    "        score += len(moveids)\n",
    "        \n",
    "    return score"
   ],
   "metadata": {
    "collapsed": false
   },
   "id": "31ed7085ee631846"
  },
  {
   "cell_type": "code",
   "execution_count": null,
   "outputs": [],
   "source": [
    "# --- SCORE SAMPLE SUBMISSION ---\n",
    "# [puzzle.reset() for puzzle in id_puzzle.values()]\n",
    "# print(\"Sample submission score:\", score_submission(puzzleid_moveids))"
   ],
   "metadata": {
    "collapsed": false
   },
   "id": "d68b9c600e6dc3db"
  },
  {
   "cell_type": "code",
   "execution_count": null,
   "outputs": [],
   "source": [
    "def get_num_faces(puzzle: Puzzle) -> int:\n",
    "    faces = puzzle.type_.split(\"_\")[1] \n",
    "    return sum(int(face) for face in faces.split(\"/\"))\n",
    "\n",
    "\n",
    "def get_face_size(puzzle: Puzzle) -> int:\n",
    "    faces = puzzle.type_.split(\"_\")[1]\n",
    "    return int(faces.split(\"/\")[0])\n",
    "\n",
    "\n",
    "id = 0  # cube\n",
    "puzzle = id_puzzle[id]\n",
    "face_size = get_face_size(puzzle)\n",
    "n_faces = len(puzzle) // face_size**2\n",
    "\n",
    "current_cube = puzzle.solution.reshape((-1, face_size**2))\n",
    "solution_cube = puzzle.solution.reshape((-1, face_size**2))\n",
    "\n",
    "facelet_channels = np.concatenate(\n",
    "    tuple(np.atleast_3d((current_cube == facelet_value)).astype(np.float32)\n",
    "          for facelet_value in np.unique(current_cube)), \n",
    "    -1\n",
    ")\n",
    "\n",
    "solution_channel = np.atleast_3d(current_cube == solution_cube).astype(np.float32)\n",
    "wildcard_channel = np.atleast_3d(puzzle.num_wildcards * np.ones_like(solution_channel)).astype(np.float32)\n",
    "\n",
    "input_channels = np.concatenate((facelet_channels, solution_channel, wildcard_channel), -1)\n"
   ],
   "metadata": {
    "collapsed": false
   },
   "id": "134905b0e4eadf9b"
  },
  {
   "cell_type": "code",
   "execution_count": null,
   "outputs": [],
   "source": [
    "def get_cuts(puzzle: Puzzle) -> tuple[int, int]:\n",
    "    cuts = puzzle.type_.split(\"_\")[1].split(\"/\")\n",
    "    return int(cuts[0]), int(cuts[1])\n",
    "\n",
    "\n",
    "id = 380  # globe\n",
    "puzzle = id_puzzle[id]\n",
    "lat_cuts, long_cuts = get_cuts(puzzle)\n",
    "lat_parts, long_parts = lat_cuts + 1, 2 * long_cuts \n",
    "\n",
    "current_cube = puzzle.solution.reshape((lat_parts, long_parts))\n",
    "solution_cube = puzzle.solution.reshape((lat_parts, long_parts))\n",
    "\n",
    "facelet_channels = np.concatenate(\n",
    "    tuple(np.atleast_3d((current_cube == facelet_value)).astype(np.float32)\n",
    "          for facelet_value in np.unique(current_cube)), \n",
    "    -1\n",
    ")\n",
    "\n",
    "solution_channel = np.atleast_3d(current_cube == solution_cube).astype(np.float32)\n",
    "wildcard_channel = np.atleast_3d(puzzle.num_wildcards * np.ones_like(solution_channel)).astype(np.float32)\n",
    "\n",
    "input_channels = np.concatenate((facelet_channels, solution_channel, wildcard_channel), -1)\n",
    "print(input_channels.shape)"
   ],
   "metadata": {
    "collapsed": false
   },
   "id": "22a1e8550be0fe22"
  },
  {
   "cell_type": "code",
   "execution_count": null,
   "outputs": [],
   "source": [
    "def get_puzzleid_moveids(path: str) -> dict[int, list[str]]:\n",
    "    reader = get_reader(path)\n",
    "    next(reader)  # skip header\n",
    "    return {int(line[0]): line[-1].split(\".\")\n",
    "            for line in reader if \"0\" in line[3]}\n"
   ],
   "metadata": {
    "collapsed": false
   },
   "id": "18c6bafec8e12bb3"
  },
  {
   "cell_type": "code",
   "execution_count": null,
   "outputs": [],
   "source": [
    "for file in next(os.walk(\"solutions\"))[2]:\n",
    "    if \"_\" in file:\n",
    "        puzzleid_moveids.update(get_puzzleid_moveids(f\"solutions/{file}\"))"
   ],
   "metadata": {
    "collapsed": false
   },
   "id": "ab5153e55a257ca4"
  },
  {
   "cell_type": "code",
   "execution_count": null,
   "outputs": [],
   "source": [
    "print(score_submission(puzzleid_moveids))"
   ],
   "metadata": {
    "collapsed": false
   },
   "id": "296e1f0ba14bd493"
  }
 ],
 "metadata": {
  "kernelspec": {
   "display_name": "Python 3",
   "language": "python",
   "name": "python3"
  },
  "language_info": {
   "codemirror_mode": {
    "name": "ipython",
    "version": 2
   },
   "file_extension": ".py",
   "mimetype": "text/x-python",
   "name": "python",
   "nbconvert_exporter": "python",
   "pygments_lexer": "ipython2",
   "version": "2.7.6"
  }
 },
 "nbformat": 4,
 "nbformat_minor": 5
}
