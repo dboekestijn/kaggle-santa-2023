{
 "cells": [
  {
   "cell_type": "markdown",
   "source": [
    "### Handle imports"
   ],
   "metadata": {
    "collapsed": false
   },
   "id": "acb3f8de434e9fa"
  },
  {
   "cell_type": "code",
   "execution_count": 1,
   "outputs": [],
   "source": [
    "import csv\n",
    "import json\n",
    "import os\n",
    "import sys\n",
    "import time\n",
    "\n",
    "import numpy as np\n",
    "from tqdm.auto import tqdm"
   ],
   "metadata": {
    "collapsed": false,
    "ExecuteTime": {
     "end_time": "2023-12-29T16:23:43.649154900Z",
     "start_time": "2023-12-29T16:23:43.574501800Z"
    }
   },
   "id": "41286168ef0dab02"
  },
  {
   "cell_type": "markdown",
   "source": [
    "### Define Puzzle objects"
   ],
   "metadata": {
    "collapsed": false
   },
   "id": "95b194ce61f53ffe"
  },
  {
   "cell_type": "code",
   "execution_count": 2,
   "outputs": [],
   "source": [
    "class Move:\n",
    "    \n",
    "    def __init__(self, name: str, permutation: np.ndarray):\n",
    "        self.name = name\n",
    "        self.permutation = permutation\n",
    "        self.is_reverse = self.name.startswith(\"-\")\n",
    "    \n",
    "    def get_reverse(self):\n",
    "        assert not self.is_reverse, \"move is already a reverse move\"\n",
    "        return Move(\"-\" + self.name, np.argsort(self.permutation))\n",
    "    \n",
    "    def get_zero_move(self):\n",
    "        return Move(\"0\", np.arange(len(self.permutation)))\n",
    "    \n",
    "    def __getitem__(self, i):\n",
    "        return self.permutation[i]\n",
    "        \n",
    "    def __call__(self, a: np.ndarray, inplace: bool = True):\n",
    "        assert isinstance(a, np.ndarray), \"argument must be a numpy array\"\n",
    "        if inplace:\n",
    "            a[:] = a[self.permutation]\n",
    "        else:\n",
    "            return a[self.permutation]\n",
    "        \n",
    "    def __len__(self):\n",
    "        return len(self.permutation)\n",
    "        \n",
    "        \n",
    "class MoveSet:\n",
    "    \n",
    "    class MoveSetIter:\n",
    "        \n",
    "        def __init__(self, *moves: Move):\n",
    "            self.moves = list(moves)\n",
    "            self.index, self.stop_index = -1, len(moves)\n",
    "            \n",
    "        def __next__(self):\n",
    "            self.index += 1\n",
    "            if self.index == self.stop_index:\n",
    "                raise StopIteration\n",
    "            return self.moves[self.index]\n",
    "        \n",
    "        def __iter__(self):\n",
    "            return self\n",
    "            \n",
    "    \n",
    "    def __init__(self, type_: str, *moves: Move):\n",
    "        self.type_ = type_\n",
    "        self.moves = {\n",
    "            move.name: move\n",
    "            for move in moves\n",
    "        }\n",
    "        \n",
    "    def __iter__(self):\n",
    "        return iter(MoveSet.MoveSetIter(*self.moves.values()))\n",
    "        \n",
    "    def __getitem__(self, name: str):\n",
    "        return self.moves[name]\n",
    "    \n",
    "    def __len__(self):\n",
    "        return len(self.moves)\n",
    "\n",
    "\n",
    "class Puzzle:\n",
    "    \n",
    "    def __init__(self, id: int, type_: str,\n",
    "                 solution_state: list[str], initial_state: list[str],\n",
    "                 num_wildcards: int):\n",
    "        \n",
    "        self.id = id\n",
    "        self.type_ = type_\n",
    "        \n",
    "        # set initial and solution states\n",
    "        num = 1  # must start from 1! Else the solver breaks\n",
    "        sym2num: dict[str, int] = dict()  # unique symbol (letter) to number mapping\n",
    "        for sym in solution_state:\n",
    "            if sym not in sym2num:\n",
    "                sym2num[sym] = num\n",
    "                num += 1\n",
    "        \n",
    "        self.solution_state = np.array([sym2num[sym] for sym in solution_state], dtype=np.uint)\n",
    "        self.initial_state = np.array([sym2num[sym] for sym in initial_state], dtype=np.uint)\n",
    "        self.current_state = self.initial_state.copy()\n",
    "        self.num_wildcards = num_wildcards\n",
    "        \n",
    "        self.solution_path: list[np.ndarray] = [self.current_state]\n",
    "        self.applied_moves: list[np.ndarray] = []\n",
    "        \n",
    "    def apply_moves(self, *moves: Move):\n",
    "        for move in moves:\n",
    "            self.current_state = move(self.current_state, inplace=False)\n",
    "            self.solution_path.append(self.current_state)\n",
    "            self.applied_moves.append(move.permutation.copy())\n",
    "        \n",
    "    def print_solution_path(self, include_moves: bool = False, symbol_dict: dict[int, str] | None = None):\n",
    "        n_moves = len(self.applied_moves)\n",
    "        for i, state in enumerate(self.solution_path):\n",
    "            print(f\"State {i}:\", end=\"\")\n",
    "            if symbol_dict is not None:\n",
    "                print([symbol_dict[s] for s in state], end=\"\")\n",
    "            else:\n",
    "                print(state, end=\"\")\n",
    "            print()\n",
    "            \n",
    "            if include_moves and i < n_moves:\n",
    "                print(f\"\\tMove ({i}->{i+1}):\", self.applied_moves[i])\n",
    "                \n",
    "    def is_solved(self) -> bool:\n",
    "        return np.array_equal(self.current_state, self.solution_state)\n",
    "                \n",
    "    def reset(self):\n",
    "        self.current_state = self.initial_state\n",
    "        self.solution_path = [self.current_state]\n",
    "        self.applied_moves = []\n",
    "        \n",
    "    def __len__(self):    \n",
    "        return len(self.current_state)\n",
    "                "
   ],
   "metadata": {
    "collapsed": false,
    "ExecuteTime": {
     "end_time": "2023-12-29T16:23:43.655253800Z",
     "start_time": "2023-12-29T16:23:43.648155700Z"
    }
   },
   "id": "91d4855eba8de2e9"
  },
  {
   "cell_type": "code",
   "execution_count": 29,
   "outputs": [],
   "source": [
    "import concurrent.futures\n",
    "\n",
    "\n",
    "class Node:\n",
    "    \n",
    "    ID = 0\n",
    "    \n",
    "    def __init__(self, state: np.ndarray, root_state: np.ndarray = None):\n",
    "        self.state = state\n",
    "        self.root_state = root_state\n",
    "        self.parent = None\n",
    "        self.children = []\n",
    "        self.id = Node.ID\n",
    "        Node.ID += 1\n",
    "        \n",
    "        self.max_build_iters = 0\n",
    "        self.build_iter = 0\n",
    "        \n",
    "    def set_parent(self, parent):\n",
    "        self.parent = parent\n",
    "        \n",
    "    def add_child(self, *children):\n",
    "        self.children.extend(children)\n",
    "        \n",
    "    def is_terminal(self):\n",
    "        return self.root_state is not None and np.array_equal(self.state, self.root_state)\n",
    "    \n",
    "    def reset(self):\n",
    "        self.parent = None\n",
    "        self.children = []\n",
    "    \n",
    "    def __hash__(self):\n",
    "        return hash(self.id)\n",
    "\n",
    "\n",
    "class MoveTree:\n",
    "    \n",
    "    def __init__(self, moveset: MoveSet, initial_state: np.ndarray | None = None):\n",
    "        self.moveset = moveset\n",
    "        move_len = len(list(self.moveset.moves.values())[0])\n",
    "        self.initial_state = np.array(range(move_len), dtype=np.uint) \\\n",
    "            if initial_state is None else initial_state.copy()\n",
    "        assert self.initial_state.size == move_len\n",
    "        \n",
    "        self.root: Node = Node(self.initial_state.copy())\n",
    "        self.branches: dict[tuple[Node, Node], Move] = dict()\n",
    "        \n",
    "    def build(self, max_depth: int = 10):\n",
    "        self.branches = dict()\n",
    "        self.root.reset()\n",
    "        \n",
    "        num_moves = len(self.moveset.moves.values())\n",
    "        self.max_build_iters = sum(num_moves ** i for i in range(1, max_depth + 1))\n",
    "        self.build_iter = 0\n",
    "        self.build_progress = iter(tqdm(range(self.max_build_iters)))\n",
    "        \n",
    "        self.terminal_nodes: list[Node] = []\n",
    "        if self.root.is_terminal():\n",
    "            self.terminal_nodes.append(self.root)\n",
    "        \n",
    "        self.add_children(self.root, 1, max_depth=max_depth)\n",
    "        \n",
    "        while True:\n",
    "            try:\n",
    "                next(self.build_progress)\n",
    "            except StopIteration:\n",
    "                break\n",
    "        \n",
    "    def add_children(self, node: Node, depth: int, max_depth: int = 10):\n",
    "        if depth > max_depth:\n",
    "            return\n",
    "\n",
    "        for move in self.moveset:\n",
    "            next(self.build_progress)\n",
    "            self.build_iter += 1\n",
    "            \n",
    "            new_state = move(node.state, inplace=False)\n",
    "            new_node = Node(new_state, self.initial_state)\n",
    "            node.add_child(new_node)\n",
    "            new_node.set_parent(node)\n",
    "            \n",
    "            self.branches[node, new_node] = move\n",
    "            if new_node.is_terminal():\n",
    "                self.terminal_nodes.append(new_node)\n",
    "            else:\n",
    "                self.add_children(new_node, depth + 1, max_depth=max_depth)\n",
    "                \n",
    "    def get_terminal_nodes(self) -> list[Node]:\n",
    "        return self.terminal_nodes\n",
    "        \n",
    "    # def get_terminal_nodes_rc(self, terminal_nodes: list[Node], node: Node):\n",
    "    #     if node.is_terminal():\n",
    "    #         terminal_nodes.append(node)\n",
    "    #         return\n",
    "    #     \n",
    "    #     for child in node.children:\n",
    "    #         self.get_terminal_nodes_rc(terminal_nodes, child)\n",
    "    \n",
    "    # def add_children(self, node: Node, depth: int, max_depth: int = 100):\n",
    "    #     if depth > max_depth:\n",
    "    #         return\n",
    "    # \n",
    "    #     with concurrent.futures.ThreadPoolExecutor(max_workers=32) as executor:\n",
    "    #         futures = []\n",
    "    #         for move in self.moveset:\n",
    "    #             if not move.is_reverse:\n",
    "    #                 futures.append(executor.submit(self.create_child, node, move, depth, max_depth))\n",
    "    # \n",
    "    #         concurrent.futures.wait(futures)\n",
    "    # \n",
    "    #         for future in futures:\n",
    "    #             new_node = future.result()\n",
    "    #             if new_node is not None:\n",
    "    #                 node.add_child(new_node)\n",
    "    # \n",
    "    # def create_child(self, node: Node, move, depth: int, max_depth: int):\n",
    "    #     new_state = move(node.state, inplace=False)\n",
    "    #     new_node = Node(new_state, self.initial_state)\n",
    "    #     new_node.set_parent(node)\n",
    "    #     if not new_node.is_terminal():\n",
    "    #         self.add_children(new_node, depth + 1, max_depth=max_depth)\n",
    "    #     return new_node\n",
    "        "
   ],
   "metadata": {
    "collapsed": false,
    "ExecuteTime": {
     "end_time": "2023-12-29T16:32:14.267356100Z",
     "start_time": "2023-12-29T16:32:14.261595Z"
    }
   },
   "id": "8078e1041b522bfe"
  },
  {
   "cell_type": "markdown",
   "source": [
    "### Load data"
   ],
   "metadata": {
    "collapsed": false
   },
   "id": "372883232c255cbd"
  },
  {
   "cell_type": "code",
   "execution_count": 4,
   "outputs": [],
   "source": [
    "def get_reader(path: str):\n",
    "    return csv.reader(open(path, mode=\"r\", encoding=\"utf-8\"), delimiter=\",\")\n"
   ],
   "metadata": {
    "collapsed": false,
    "ExecuteTime": {
     "end_time": "2023-12-29T16:23:43.661225900Z",
     "start_time": "2023-12-29T16:23:43.657728900Z"
    }
   },
   "id": "a1f5bd54a2c98275"
  },
  {
   "cell_type": "markdown",
   "source": [
    "Map symbols (strings) to ids (integers)"
   ],
   "metadata": {
    "collapsed": false
   },
   "id": "77c1cc4043f5c4cf"
  },
  {
   "cell_type": "markdown",
   "source": [
    "Load puzzles"
   ],
   "metadata": {
    "collapsed": false
   },
   "id": "e8e81de873e1f2c2"
  },
  {
   "cell_type": "code",
   "execution_count": 5,
   "outputs": [],
   "source": [
    "reader = get_reader(\"data/puzzles.csv\")\n",
    "next(reader)  # skip header\n",
    "\n",
    "id_puzzle: dict[int, Puzzle] = dict()\n",
    "for line in reader:\n",
    "    id = int(line[0])\n",
    "    type_ = line[1]\n",
    "    solution_state = line[2].split(\";\")\n",
    "    initial_state = line[3].split(\";\")\n",
    "    num_wildcards = int(line[4])\n",
    "    \n",
    "    id_puzzle[id] = Puzzle(id, type_, solution_state, initial_state, num_wildcards)\n"
   ],
   "metadata": {
    "collapsed": false,
    "ExecuteTime": {
     "end_time": "2023-12-29T16:23:43.692684100Z",
     "start_time": "2023-12-29T16:23:43.661225900Z"
    }
   },
   "id": "c25f1b07e649f9bf"
  },
  {
   "cell_type": "markdown",
   "source": [
    "Load moves"
   ],
   "metadata": {
    "collapsed": false
   },
   "id": "12bede9e91a2b94e"
  },
  {
   "cell_type": "code",
   "execution_count": 6,
   "outputs": [],
   "source": [
    "# set csv max field size to handle reading in the puzzle info\n",
    "csv_limit = sys.maxsize\n",
    "while True:\n",
    "    try:\n",
    "        csv.field_size_limit(csv_limit)\n",
    "        break\n",
    "    except OverflowError:\n",
    "        csv_limit = int(csv_limit / 10)\n",
    "        \n",
    "# read puzzle info\n",
    "reader = get_reader(\"data/puzzle_info.csv\")\n",
    "next(reader)  # skip header\n",
    "\n",
    "type_moveset: dict[str, MoveSet] = dict()\n",
    "for line in reader:\n",
    "    type_ = line[0]\n",
    "    moves = json.loads(line[1].replace(\"'\", '\"'), )\n",
    "    move_objects = []\n",
    "    for name, permutation in moves.items():\n",
    "        move = Move(name, np.array(permutation))\n",
    "        reverse_move = move.get_reverse()\n",
    "        move_objects.append(move)\n",
    "        move_objects.append(reverse_move)\n",
    "        \n",
    "    if type_ in type_moveset:\n",
    "        raise AssertionError(f\"type {type_} already in type_moveset\")\n",
    "    \n",
    "    type_moveset[type_] = MoveSet(type_, *move_objects)"
   ],
   "metadata": {
    "collapsed": false,
    "ExecuteTime": {
     "end_time": "2023-12-29T16:23:43.762439300Z",
     "start_time": "2023-12-29T16:23:43.673665400Z"
    }
   },
   "id": "8ad33d830e98df7a"
  },
  {
   "cell_type": "markdown",
   "source": [
    "Load sample submission"
   ],
   "metadata": {
    "collapsed": false
   },
   "id": "6e6100132bbe228d"
  },
  {
   "cell_type": "code",
   "execution_count": 7,
   "outputs": [],
   "source": [
    "puzzleid_moveids: dict[int, list[str]] = dict()\n",
    "reader = get_reader(\"submissions/sample_submission.csv\")\n",
    "next(reader)  # skip header\n",
    "\n",
    "for line in reader:\n",
    "    id = int(line[0])\n",
    "    moveids = line[1].split(\".\")\n",
    "    puzzleid_moveids[id] = moveids\n",
    "    "
   ],
   "metadata": {
    "collapsed": false,
    "ExecuteTime": {
     "end_time": "2023-12-29T16:23:43.813076600Z",
     "start_time": "2023-12-29T16:23:43.762439300Z"
    }
   },
   "id": "f1d3d5555f985d4b"
  },
  {
   "cell_type": "markdown",
   "source": [
    "Verify sample submission"
   ],
   "metadata": {
    "collapsed": false
   },
   "id": "6293be50ccf3aeaa"
  },
  {
   "cell_type": "code",
   "execution_count": 8,
   "outputs": [],
   "source": [
    "def score_submission(puzzleid_moveids: dict[int, list[str]]):\n",
    "    score = 0\n",
    "    for id, moveids in tqdm(puzzleid_moveids.items()):\n",
    "        puzzle = id_puzzle[id]\n",
    "        moveset = type_moveset[puzzle.type_]\n",
    "        for moveid in moveids:\n",
    "            try:\n",
    "                puzzle.apply_moves(moveset[moveid])\n",
    "            except KeyError:\n",
    "                raise AssertionError(f\"move with id {moveid} is not an allowed move for puzzle {id}\")\n",
    "        num_wrong_facelets = np.sum(puzzle.solution_state != puzzle.current_state)\n",
    "        if num_wrong_facelets > puzzle.num_wildcards:\n",
    "            raise AssertionError(f\"submitted moves do not solve puzzle {id}\")\n",
    "        \n",
    "        puzzle.reset()\n",
    "        \n",
    "        score += len(moveids)\n",
    "        \n",
    "    return score"
   ],
   "metadata": {
    "collapsed": false,
    "ExecuteTime": {
     "end_time": "2023-12-29T16:23:43.820963100Z",
     "start_time": "2023-12-29T16:23:43.813076600Z"
    }
   },
   "id": "31ed7085ee631846"
  },
  {
   "cell_type": "code",
   "execution_count": 9,
   "outputs": [],
   "source": [
    "# --- SCORE SAMPLE SUBMISSION ---\n",
    "# [puzzle.reset() for puzzle in id_puzzle.values()]\n",
    "# print(\"Sample submission score:\", score_submission(puzzleid_moveids))"
   ],
   "metadata": {
    "collapsed": false,
    "ExecuteTime": {
     "end_time": "2023-12-29T16:23:43.820963100Z",
     "start_time": "2023-12-29T16:23:43.817959400Z"
    }
   },
   "id": "d68b9c600e6dc3db"
  },
  {
   "cell_type": "markdown",
   "source": [
    "### Building the MILP puzzle solver"
   ],
   "metadata": {
    "collapsed": false
   },
   "id": "3f25565b06285bae"
  },
  {
   "cell_type": "markdown",
   "source": [
    "Handle Gurobi imports"
   ],
   "metadata": {
    "collapsed": false
   },
   "id": "fbb9747096838abb"
  },
  {
   "cell_type": "code",
   "execution_count": 10,
   "outputs": [],
   "source": [
    "import gurobipy as gp\n",
    "from gurobipy import GRB"
   ],
   "metadata": {
    "collapsed": false,
    "ExecuteTime": {
     "end_time": "2023-12-29T16:23:43.832991Z",
     "start_time": "2023-12-29T16:23:43.819966Z"
    }
   },
   "id": "b0ed2388f01cb957"
  },
  {
   "cell_type": "code",
   "execution_count": 11,
   "outputs": [],
   "source": [
    "class PuzzleSolver:\n",
    "    \n",
    "    LICENSE_ID = 2457954  # PC: 2456730\n",
    "    \n",
    "    THREAD_COUNT = 32\n",
    "    TIME_LIMIT = 300\n",
    "    \n",
    "    BIG_M = int(1e5)\n",
    "    T_INIT = int(1e2)\n",
    "    \n",
    "    def __init__(self, \n",
    "                 puzzle: Puzzle, \n",
    "                 moveset: MoveSet, \n",
    "                 tl: int = TIME_LIMIT,\n",
    "                 T: int = T_INIT, \n",
    "                 verbosity: int = 1):\n",
    "        self.puzzle = puzzle\n",
    "        self.moveset = moveset\n",
    "        self.moves: dict[int, Move] = dict()\n",
    "        self.moveidx_movename: dict[int, str] = dict()\n",
    "        self.moveidx_reversemoveidx: dict[int, int] = dict()\n",
    "        \n",
    "        for k, move in enumerate(moveset):\n",
    "            self.moves[k + 1] = move\n",
    "            self.moveidx_movename[k + 1] = move.name\n",
    "            \n",
    "        self.moves[0] = self.moves[1].get_zero_move()\n",
    "        self.moveidx_movename[0] = self.moves[0].name\n",
    "        \n",
    "        for k, move in self.moves.items():\n",
    "            for m, reversemove in self.moves.items():\n",
    "                if k != m:\n",
    "                    if np.array_equal(np.argsort(move.permutation), \n",
    "                                      reversemove.permutation):\n",
    "                        self.moveidx_reversemoveidx[k] = m\n",
    "        \n",
    "        # initialize environment\n",
    "        self.env = gp.Env(params={\n",
    "            \"LicenseID\": PuzzleSolver.LICENSE_ID,\n",
    "            \"Threads\": PuzzleSolver.THREAD_COUNT,\n",
    "            \"TimeLimit\": tl,\n",
    "            \"OutputFlag\": int(bool(verbosity)),\n",
    "            \"MIPFocus\": 1,  # 0: Balanced, 1: Feasible, 2: Optimal, 3: Bound\n",
    "            # \"Heuristics\": 0.8,\n",
    "            \"Presolve\": 2,  # 0: No, 1: Regular, 2: Aggressive\n",
    "            # \"Cuts\": 1,\n",
    "        })\n",
    "        self.env.start()\n",
    "        \n",
    "        # initialize model\n",
    "        self.model: gp.Model | None = None\n",
    "        \n",
    "        # initialize constants\n",
    "        self.T = T  # max no. moves\n",
    "        self.N = len(puzzle)  # i, j = 1, ..., N\n",
    "        self.K = len(self.moves)  # k = 1, ..., K\n",
    "        self.W = puzzle.num_wildcards  # max. no. wildcards\n",
    "        \n",
    "        # initialize variable dicts\n",
    "        self.p: dict[tuple[int, int], gp.Var] = dict()  # puzzle piece [INT]: (t, i)\n",
    "        self.m: dict[tuple[int, int, int], gp.Var] = dict()  # executed move [BIN]: (t, j, i)\n",
    "        self.mu: dict[tuple[int, int], gp.Var] = dict()  # move selector [BIN]: (t, k)\n",
    "        self.M: dict[tuple[int, int, int], gp.Var] = dict()  # allowed move [BIN]: (k, j, i)\n",
    "        self.w: dict[int, gp.Var] = dict()  # wildcard use [BIN]: i\n",
    "        \n",
    "        self.verbosity = verbosity\n",
    "        \n",
    "    def set_verbosity(self, level: int):\n",
    "        self.verbosity = level\n",
    "        \n",
    "    def initialize(self):\n",
    "        model_name = f\"PuzzleSolver_P{self.puzzle.id}_[T{self.T}, N{self.N}, K{self.K}]\"\n",
    "        self.log(1, f\"Initializing solver {model_name} ...\")\n",
    "        \n",
    "        # (re)initialize model and variables\n",
    "        self.model = gp.Model(model_name, env=self.env)\n",
    "        self.p, self.m, self.mu, self.M, self.w = dict(), dict(), dict(), dict(), dict()\n",
    "        \n",
    "        for i in range(self.N):\n",
    "            self.w[i] = self.model.addVar(\n",
    "                name=\"w_{%d}\" % i, vtype=GRB.BINARY\n",
    "            )\n",
    "        \n",
    "        for t in tqdm(range(self.T + 1)):\n",
    "            for i in range(self.N):\n",
    "                if t == 0:\n",
    "                    lb = ub = self.puzzle.initial_state[i]\n",
    "                else:\n",
    "                    lb, ub = 0.0, float(\"inf\")\n",
    "                    \n",
    "                self.p[t, i] = self.model.addVar(\n",
    "                    name=\"p_{%d, %d}\" % (t, i), vtype=GRB.INTEGER, \n",
    "                    lb=lb, ub=ub\n",
    "                )\n",
    "                \n",
    "                if t < self.T:\n",
    "                    for j in range(self.N):\n",
    "                        self.m[t, j, i] = self.model.addVar(\n",
    "                            name=\"m_{%d, %d, %d}\" % (t, j, i), vtype=GRB.BINARY)\n",
    "                        \n",
    "            if t < self.T:\n",
    "                for k in range(self.K):\n",
    "                    self.mu[t, k] = self.model.addVar(\n",
    "                        name=\"mu_{%d, %d}\" % (t, k), vtype=GRB.BINARY\n",
    "                    )\n",
    "            \n",
    "        self.log(1, \n",
    "                 (\"Initialized model with %d variables.\" % \n",
    "                  sum((len(self.p), len(self.m), len(self.mu), len(self.M)))))\n",
    "                    \n",
    "    def add_constraints(self):\n",
    "        self.log(1, \"Adding constraints ...\")\n",
    "        \n",
    "        # final solution/wildcard constraints\n",
    "        for i in range(self.N):\n",
    "            # (1) final solution must be exact unless wildcard\n",
    "            self.model.addConstr(\n",
    "                self.p[self.T, i] + PuzzleSolver.BIG_M * self.w[i] >= \n",
    "                self.puzzle.solution_state[i]\n",
    "            )\n",
    "            \n",
    "            self.model.addConstr(\n",
    "                self.p[self.T, i] - PuzzleSolver.BIG_M * self.w[i] <= \n",
    "                self.puzzle.solution_state[i]\n",
    "            )\n",
    "            \n",
    "        # (2) may use at most W wildcards\n",
    "        self.model.addConstr(\n",
    "            self.W >= gp.quicksum(self.w[i] for i in range(self.N)),\n",
    "        )\n",
    "        \n",
    "        for t in tqdm(range(self.T)):\n",
    "            # piece repositioning constraint: \n",
    "            # p_{t+1, i} == \\sum_{j=1}^N m_{t, j, i} * p_{t, i}\n",
    "            self.model.addConstrs(\n",
    "                self.p[t + 1, i] == gp.quicksum(self.m[t, j, i] * self.p[t, j] \n",
    "                                                for j in range(self.N))\n",
    "                for i in range(self.N)\n",
    "            )\n",
    "            \n",
    "            # move selection constraint:\n",
    "            # m_{t, j, i} == \\sum_{k=1}^K \\mu_{t, k} M_{k, j, i}\n",
    "            self.model.addConstrs(\n",
    "                self.m[t, j, i] == gp.quicksum((self.moves[k][i] == j) * self.mu[t, k]\n",
    "                                               for k in range(self.K))\n",
    "                for j in range(self.N) for i in range(self.N)\n",
    "            )\n",
    "            \n",
    "            self.model.addConstrs(\n",
    "                1 == gp.quicksum(self.m[t, j, i] for i in range(self.N))\n",
    "                for j in range(self.N)\n",
    "            )\n",
    "\n",
    "            self.model.addConstrs(\n",
    "                1 == gp.quicksum(self.m[t, j, i] for j in range(self.N))\n",
    "                for i in range(self.N)\n",
    "            )\n",
    "            \n",
    "            # exactly one move per time step:\n",
    "            # \\sum_{k=1}^K \\mu_{t, k} == 1\n",
    "            self.model.addConstr(\n",
    "                1 == gp.quicksum(self.mu[t, k] for k in range(self.K))\n",
    "            )\n",
    "\n",
    "            # only zero-moves after the first zero-move:\n",
    "            # \\mu_{t+1, 0} == \\mu_{t, 0}\n",
    "            if t < self.T - 1:\n",
    "                self.model.addConstr(\n",
    "                    self.mu[t + 1, 0] >= self.mu[t, 0],\n",
    "                )\n",
    "               \n",
    "            # don't follow move with reverse of move \n",
    "            if t < self.T - 1:\n",
    "                for k in range(1, self.K):\n",
    "                    m = self.moveidx_reversemoveidx[k]\n",
    "                    self.model.addConstr(\n",
    "                        self.mu[t + 1, m] <= 1 - self.mu[t, k]\n",
    "                    )\n",
    "        \n",
    "        n_constraints = ((self.N * 2 + 1) +  # final solution constraints\n",
    "                         (self.T * self.N) +  # piece repositioning constraints\n",
    "                         (self.T * self.N ** 2) +  # move selection constraints\n",
    "                         (self.T * self.K) +  # move-step constraints\n",
    "                         (self.T - 1))  # zero-move constraints\n",
    "        self.log(1, \"Added %d constraints.\" % n_constraints)\n",
    "        \n",
    "    def build(self):\n",
    "        self.initialize()\n",
    "        self.add_constraints()\n",
    "        self.model.setObjective(\n",
    "            gp.quicksum(self.mu[t, k] for t in range(self.T - 1) \n",
    "                        for k in range(1, self.K)),  # zero-moves are free\n",
    "            sense=GRB.MINIMIZE\n",
    "        )\n",
    "            \n",
    "    def optimize(self) -> int:  # 0 if optimal, 1 if timeout, -1 if other\n",
    "        self.model.optimize()\n",
    "        if self.model.status == GRB.OPTIMAL:\n",
    "            return 0\n",
    "        \n",
    "        try:\n",
    "            self.model.getAttr(\"X\", self.model.getVars())\n",
    "            return 1 if self.model.status == GRB.TIME_LIMIT else -1\n",
    "        except gp.GurobiError:\n",
    "            return -1\n",
    "    \n",
    "    def get_optimized_states(self) -> list[np.ndarray]:\n",
    "        states: list[np.ndarray] = list()\n",
    "        for t in range(self.T + 1):\n",
    "            states.append(np.array([self.p[t, i].x for i in range(self.N)], dtype=np.uint))\n",
    "            if self.mu[t, 0].x > 0.5:\n",
    "                break\n",
    "        return states\n",
    "        \n",
    "    def get_optimized_moves(self) -> list[Move]:\n",
    "        moves: list[Move] = list()\n",
    "        for t in range(self.T):\n",
    "            if self.mu[t, 0].x > 0.5:\n",
    "                break\n",
    "        \n",
    "            for k in range(1, self.K):\n",
    "                if self.mu[t, k].x > 0.5:\n",
    "                    moves.append(self.moveset[self.moveidx_movename[k]])\n",
    "                    \n",
    "        return moves\n",
    "    \n",
    "    def get_final_state(self) -> np.ndarray:\n",
    "        return np.array([self.p[self.T, i].x for i in range(self.N)], dtype=np.uint)\n",
    "    \n",
    "    def get_solution_offset(self) -> np.ndarray:\n",
    "        return np.array([(self.p[self.T, i].x - self.puzzle.solution_state[i]) for i in range(self.N)], dtype=np.int8)\n",
    "    \n",
    "    def get_wildcard_usage(self) -> list[bool]:\n",
    "        return [self.w[i].x > 0.5 for i in range(self.N)]\n",
    "        \n",
    "    def log(self, \n",
    "            verbosity_level: int,\n",
    "            *values: object, \n",
    "            sep: str | None = \" \", \n",
    "            end: str | None = \"\\n\"):\n",
    "        if verbosity_level <= self.verbosity:\n",
    "            print(*values, sep=sep, end=end)\n",
    "        "
   ],
   "metadata": {
    "collapsed": false,
    "ExecuteTime": {
     "end_time": "2023-12-29T16:23:43.875823800Z",
     "start_time": "2023-12-29T16:23:43.833988Z"
    }
   },
   "id": "1534a5f9fd3987d8"
  },
  {
   "cell_type": "code",
   "execution_count": 12,
   "outputs": [],
   "source": [
    "def get_write_path(puzzle_id: int) -> str:\n",
    "    return f\"solutions/puzzle_{puzzle_id}.csv\"\n",
    "\n",
    "\n",
    "def log_optimized_move_path(puzzle: Puzzle, moves: list[Move], tl: int, T: int, status: int):\n",
    "    with open(get_write_path(puzzle.id), mode=\"w\", newline=\"\") as f:\n",
    "        writer = csv.writer(f, delimiter=\",\")\n",
    "        writer.writerow([\"id\", \"tl\", \"T\", \"status\", \"moves\"])\n",
    "        writer.writerow([\n",
    "            puzzle.id, \n",
    "            str(tl),\n",
    "            str(T), \n",
    "            str(status), \n",
    "            \".\".join(move.name for move in moves)\n",
    "        ])\n",
    "\n",
    "\n",
    "def solve_and_log(puzzle_id: int, max_tries: int = 3):\n",
    "    if os.path.exists(get_write_path(puzzle_id)):\n",
    "        return\n",
    "    \n",
    "    puzzle = id_puzzle[puzzle_id]\n",
    "    moveset = type_moveset[puzzle.type_]\n",
    "    \n",
    "    tl = PuzzleSolver.TIME_LIMIT * 12  # (from 5 minutes (default) to 60 minutes)\n",
    "    T = PuzzleSolver.T_INIT // 2  # (from 100 steps (default) to 50 steps)\n",
    "    tries = 0\n",
    "    status = -1\n",
    "    while status == -1 and tries < max_tries:\n",
    "        solver = PuzzleSolver(\n",
    "            puzzle, moveset, tl=tl, T=T, verbosity=1\n",
    "        )\n",
    "        solver.build()\n",
    "        status = solver.optimize()\n",
    "        if status == 0 or (status == 1 and tries == max_tries - 1):\n",
    "            # verify solution:\n",
    "            puzzle.reset()\n",
    "            puzzle.apply_moves(*solver.get_optimized_moves())\n",
    "            assert np.sum(puzzle.current_state != puzzle.solution_state) <= puzzle.num_wildcards, \\\n",
    "                    \"optimized moves do not solve the puzzle\"\n",
    "            puzzle.reset()\n",
    "            \n",
    "            log_optimized_move_path(\n",
    "                puzzle, solver.get_optimized_moves(), tl, T, status\n",
    "            )\n",
    "            \n",
    "        # tl *= 6\n",
    "        # if status != 1:  # found no feasible solutions with a time horizon of T\n",
    "        T *= 10\n",
    "            \n",
    "        tries += 1\n",
    "            "
   ],
   "metadata": {
    "collapsed": false,
    "ExecuteTime": {
     "end_time": "2023-12-29T16:23:43.883980400Z",
     "start_time": "2023-12-29T16:23:43.877825900Z"
    }
   },
   "id": "43e9b30dffe4210"
  },
  {
   "cell_type": "code",
   "execution_count": 13,
   "outputs": [
    {
     "name": "stdout",
     "output_type": "stream",
     "text": [
      "Set parameter Username\n",
      "Set parameter TimeLimit to value 3600\n",
      "Set parameter MIPFocus to value 1\n",
      "Set parameter LicenseID to value 2457954\n",
      "Set parameter Presolve to value 2\n",
      "Set parameter Threads to value 32\n",
      "Academic license - for non-commercial use only - expires 2024-12-20\n",
      "Initializing solver PuzzleSolver_P338_[T50, N32, K37] ...\n"
     ]
    },
    {
     "data": {
      "text/plain": "  0%|          | 0/51 [00:00<?, ?it/s]",
      "application/vnd.jupyter.widget-view+json": {
       "version_major": 2,
       "version_minor": 0,
       "model_id": "94245c7a2f8443feb98de3eed3f3a70b"
      }
     },
     "metadata": {},
     "output_type": "display_data"
    },
    {
     "name": "stdout",
     "output_type": "stream",
     "text": [
      "Initialized model with 54682 variables.\n",
      "Adding constraints ...\n"
     ]
    },
    {
     "data": {
      "text/plain": "  0%|          | 0/50 [00:00<?, ?it/s]",
      "application/vnd.jupyter.widget-view+json": {
       "version_major": 2,
       "version_minor": 0,
       "model_id": "66b20675c7fc49dda0484709786b3fcd"
      }
     },
     "metadata": {},
     "output_type": "display_data"
    },
    {
     "ename": "KeyboardInterrupt",
     "evalue": "",
     "output_type": "error",
     "traceback": [
      "\u001B[1;31m---------------------------------------------------------------------------\u001B[0m",
      "\u001B[1;31mKeyboardInterrupt\u001B[0m                         Traceback (most recent call last)",
      "Cell \u001B[1;32mIn[13], line 8\u001B[0m\n\u001B[0;32m      5\u001B[0m \u001B[38;5;28;01mif\u001B[39;00m \u001B[38;5;28mid\u001B[39m \u001B[38;5;241m<\u001B[39m \u001B[38;5;241m338\u001B[39m:  \u001B[38;5;66;03m# globes\u001B[39;00m\n\u001B[0;32m      6\u001B[0m     \u001B[38;5;28;01mcontinue\u001B[39;00m\n\u001B[1;32m----> 8\u001B[0m \u001B[43msolve_and_log\u001B[49m\u001B[43m(\u001B[49m\u001B[38;5;28;43mid\u001B[39;49m\u001B[43m,\u001B[49m\u001B[43m \u001B[49m\u001B[43mmax_tries\u001B[49m\u001B[38;5;241;43m=\u001B[39;49m\u001B[38;5;241;43m1\u001B[39;49m\u001B[43m)\u001B[49m\n\u001B[0;32m     10\u001B[0m clear_output(wait\u001B[38;5;241m=\u001B[39m\u001B[38;5;28;01mTrue\u001B[39;00m) \n",
      "Cell \u001B[1;32mIn[12], line 33\u001B[0m, in \u001B[0;36msolve_and_log\u001B[1;34m(puzzle_id, max_tries)\u001B[0m\n\u001B[0;32m     29\u001B[0m \u001B[38;5;28;01mwhile\u001B[39;00m status \u001B[38;5;241m==\u001B[39m \u001B[38;5;241m-\u001B[39m\u001B[38;5;241m1\u001B[39m \u001B[38;5;129;01mand\u001B[39;00m tries \u001B[38;5;241m<\u001B[39m max_tries:\n\u001B[0;32m     30\u001B[0m     solver \u001B[38;5;241m=\u001B[39m PuzzleSolver(\n\u001B[0;32m     31\u001B[0m         puzzle, moveset, tl\u001B[38;5;241m=\u001B[39mtl, T\u001B[38;5;241m=\u001B[39mT, verbosity\u001B[38;5;241m=\u001B[39m\u001B[38;5;241m1\u001B[39m\n\u001B[0;32m     32\u001B[0m     )\n\u001B[1;32m---> 33\u001B[0m     \u001B[43msolver\u001B[49m\u001B[38;5;241;43m.\u001B[39;49m\u001B[43mbuild\u001B[49m\u001B[43m(\u001B[49m\u001B[43m)\u001B[49m\n\u001B[0;32m     34\u001B[0m     status \u001B[38;5;241m=\u001B[39m solver\u001B[38;5;241m.\u001B[39moptimize()\n\u001B[0;32m     35\u001B[0m     \u001B[38;5;28;01mif\u001B[39;00m status \u001B[38;5;241m==\u001B[39m \u001B[38;5;241m0\u001B[39m \u001B[38;5;129;01mor\u001B[39;00m (status \u001B[38;5;241m==\u001B[39m \u001B[38;5;241m1\u001B[39m \u001B[38;5;129;01mand\u001B[39;00m tries \u001B[38;5;241m==\u001B[39m max_tries \u001B[38;5;241m-\u001B[39m \u001B[38;5;241m1\u001B[39m):\n\u001B[0;32m     36\u001B[0m         \u001B[38;5;66;03m# verify solution:\u001B[39;00m\n",
      "Cell \u001B[1;32mIn[11], line 189\u001B[0m, in \u001B[0;36mPuzzleSolver.build\u001B[1;34m(self)\u001B[0m\n\u001B[0;32m    187\u001B[0m \u001B[38;5;28;01mdef\u001B[39;00m \u001B[38;5;21mbuild\u001B[39m(\u001B[38;5;28mself\u001B[39m):\n\u001B[0;32m    188\u001B[0m     \u001B[38;5;28mself\u001B[39m\u001B[38;5;241m.\u001B[39minitialize()\n\u001B[1;32m--> 189\u001B[0m     \u001B[38;5;28;43mself\u001B[39;49m\u001B[38;5;241;43m.\u001B[39;49m\u001B[43madd_constraints\u001B[49m\u001B[43m(\u001B[49m\u001B[43m)\u001B[49m\n\u001B[0;32m    190\u001B[0m     \u001B[38;5;28mself\u001B[39m\u001B[38;5;241m.\u001B[39mmodel\u001B[38;5;241m.\u001B[39msetObjective(\n\u001B[0;32m    191\u001B[0m         gp\u001B[38;5;241m.\u001B[39mquicksum(\u001B[38;5;28mself\u001B[39m\u001B[38;5;241m.\u001B[39mmu[t, k] \u001B[38;5;28;01mfor\u001B[39;00m t \u001B[38;5;129;01min\u001B[39;00m \u001B[38;5;28mrange\u001B[39m(\u001B[38;5;28mself\u001B[39m\u001B[38;5;241m.\u001B[39mT \u001B[38;5;241m-\u001B[39m \u001B[38;5;241m1\u001B[39m) \n\u001B[0;32m    192\u001B[0m                     \u001B[38;5;28;01mfor\u001B[39;00m k \u001B[38;5;129;01min\u001B[39;00m \u001B[38;5;28mrange\u001B[39m(\u001B[38;5;241m1\u001B[39m, \u001B[38;5;28mself\u001B[39m\u001B[38;5;241m.\u001B[39mK)),  \u001B[38;5;66;03m# zero-moves are free\u001B[39;00m\n\u001B[0;32m    193\u001B[0m         sense\u001B[38;5;241m=\u001B[39mGRB\u001B[38;5;241m.\u001B[39mMINIMIZE\n\u001B[0;32m    194\u001B[0m     )\n",
      "Cell \u001B[1;32mIn[11], line 143\u001B[0m, in \u001B[0;36mPuzzleSolver.add_constraints\u001B[1;34m(self)\u001B[0m\n\u001B[0;32m    135\u001B[0m \u001B[38;5;28mself\u001B[39m\u001B[38;5;241m.\u001B[39mmodel\u001B[38;5;241m.\u001B[39maddConstrs(\n\u001B[0;32m    136\u001B[0m     \u001B[38;5;28mself\u001B[39m\u001B[38;5;241m.\u001B[39mp[t \u001B[38;5;241m+\u001B[39m \u001B[38;5;241m1\u001B[39m, i] \u001B[38;5;241m==\u001B[39m gp\u001B[38;5;241m.\u001B[39mquicksum(\u001B[38;5;28mself\u001B[39m\u001B[38;5;241m.\u001B[39mm[t, j, i] \u001B[38;5;241m*\u001B[39m \u001B[38;5;28mself\u001B[39m\u001B[38;5;241m.\u001B[39mp[t, j] \n\u001B[0;32m    137\u001B[0m                                     \u001B[38;5;28;01mfor\u001B[39;00m j \u001B[38;5;129;01min\u001B[39;00m \u001B[38;5;28mrange\u001B[39m(\u001B[38;5;28mself\u001B[39m\u001B[38;5;241m.\u001B[39mN))\n\u001B[0;32m    138\u001B[0m     \u001B[38;5;28;01mfor\u001B[39;00m i \u001B[38;5;129;01min\u001B[39;00m \u001B[38;5;28mrange\u001B[39m(\u001B[38;5;28mself\u001B[39m\u001B[38;5;241m.\u001B[39mN)\n\u001B[0;32m    139\u001B[0m )\n\u001B[0;32m    141\u001B[0m \u001B[38;5;66;03m# move selection constraint:\u001B[39;00m\n\u001B[0;32m    142\u001B[0m \u001B[38;5;66;03m# m_{t, j, i} == \\sum_{k=1}^K \\mu_{t, k} M_{k, j, i}\u001B[39;00m\n\u001B[1;32m--> 143\u001B[0m \u001B[38;5;28;43mself\u001B[39;49m\u001B[38;5;241;43m.\u001B[39;49m\u001B[43mmodel\u001B[49m\u001B[38;5;241;43m.\u001B[39;49m\u001B[43maddConstrs\u001B[49m\u001B[43m(\u001B[49m\n\u001B[0;32m    144\u001B[0m \u001B[43m    \u001B[49m\u001B[38;5;28;43mself\u001B[39;49m\u001B[38;5;241;43m.\u001B[39;49m\u001B[43mm\u001B[49m\u001B[43m[\u001B[49m\u001B[43mt\u001B[49m\u001B[43m,\u001B[49m\u001B[43m \u001B[49m\u001B[43mj\u001B[49m\u001B[43m,\u001B[49m\u001B[43m \u001B[49m\u001B[43mi\u001B[49m\u001B[43m]\u001B[49m\u001B[43m \u001B[49m\u001B[38;5;241;43m==\u001B[39;49m\u001B[43m \u001B[49m\u001B[43mgp\u001B[49m\u001B[38;5;241;43m.\u001B[39;49m\u001B[43mquicksum\u001B[49m\u001B[43m(\u001B[49m\u001B[43m(\u001B[49m\u001B[38;5;28;43mself\u001B[39;49m\u001B[38;5;241;43m.\u001B[39;49m\u001B[43mmoves\u001B[49m\u001B[43m[\u001B[49m\u001B[43mk\u001B[49m\u001B[43m]\u001B[49m\u001B[43m[\u001B[49m\u001B[43mi\u001B[49m\u001B[43m]\u001B[49m\u001B[43m \u001B[49m\u001B[38;5;241;43m==\u001B[39;49m\u001B[43m \u001B[49m\u001B[43mj\u001B[49m\u001B[43m)\u001B[49m\u001B[43m \u001B[49m\u001B[38;5;241;43m*\u001B[39;49m\u001B[43m \u001B[49m\u001B[38;5;28;43mself\u001B[39;49m\u001B[38;5;241;43m.\u001B[39;49m\u001B[43mmu\u001B[49m\u001B[43m[\u001B[49m\u001B[43mt\u001B[49m\u001B[43m,\u001B[49m\u001B[43m \u001B[49m\u001B[43mk\u001B[49m\u001B[43m]\u001B[49m\n\u001B[0;32m    145\u001B[0m \u001B[43m                                   \u001B[49m\u001B[38;5;28;43;01mfor\u001B[39;49;00m\u001B[43m \u001B[49m\u001B[43mk\u001B[49m\u001B[43m \u001B[49m\u001B[38;5;129;43;01min\u001B[39;49;00m\u001B[43m \u001B[49m\u001B[38;5;28;43mrange\u001B[39;49m\u001B[43m(\u001B[49m\u001B[38;5;28;43mself\u001B[39;49m\u001B[38;5;241;43m.\u001B[39;49m\u001B[43mK\u001B[49m\u001B[43m)\u001B[49m\u001B[43m)\u001B[49m\n\u001B[0;32m    146\u001B[0m \u001B[43m    \u001B[49m\u001B[38;5;28;43;01mfor\u001B[39;49;00m\u001B[43m \u001B[49m\u001B[43mj\u001B[49m\u001B[43m \u001B[49m\u001B[38;5;129;43;01min\u001B[39;49;00m\u001B[43m \u001B[49m\u001B[38;5;28;43mrange\u001B[39;49m\u001B[43m(\u001B[49m\u001B[38;5;28;43mself\u001B[39;49m\u001B[38;5;241;43m.\u001B[39;49m\u001B[43mN\u001B[49m\u001B[43m)\u001B[49m\u001B[43m \u001B[49m\u001B[38;5;28;43;01mfor\u001B[39;49;00m\u001B[43m \u001B[49m\u001B[43mi\u001B[49m\u001B[43m \u001B[49m\u001B[38;5;129;43;01min\u001B[39;49;00m\u001B[43m \u001B[49m\u001B[38;5;28;43mrange\u001B[39;49m\u001B[43m(\u001B[49m\u001B[38;5;28;43mself\u001B[39;49m\u001B[38;5;241;43m.\u001B[39;49m\u001B[43mN\u001B[49m\u001B[43m)\u001B[49m\n\u001B[0;32m    147\u001B[0m \u001B[43m\u001B[49m\u001B[43m)\u001B[49m\n\u001B[0;32m    149\u001B[0m \u001B[38;5;28mself\u001B[39m\u001B[38;5;241m.\u001B[39mmodel\u001B[38;5;241m.\u001B[39maddConstrs(\n\u001B[0;32m    150\u001B[0m     \u001B[38;5;241m1\u001B[39m \u001B[38;5;241m==\u001B[39m gp\u001B[38;5;241m.\u001B[39mquicksum(\u001B[38;5;28mself\u001B[39m\u001B[38;5;241m.\u001B[39mm[t, j, i] \u001B[38;5;28;01mfor\u001B[39;00m i \u001B[38;5;129;01min\u001B[39;00m \u001B[38;5;28mrange\u001B[39m(\u001B[38;5;28mself\u001B[39m\u001B[38;5;241m.\u001B[39mN))\n\u001B[0;32m    151\u001B[0m     \u001B[38;5;28;01mfor\u001B[39;00m j \u001B[38;5;129;01min\u001B[39;00m \u001B[38;5;28mrange\u001B[39m(\u001B[38;5;28mself\u001B[39m\u001B[38;5;241m.\u001B[39mN)\n\u001B[0;32m    152\u001B[0m )\n\u001B[0;32m    154\u001B[0m \u001B[38;5;28mself\u001B[39m\u001B[38;5;241m.\u001B[39mmodel\u001B[38;5;241m.\u001B[39maddConstrs(\n\u001B[0;32m    155\u001B[0m     \u001B[38;5;241m1\u001B[39m \u001B[38;5;241m==\u001B[39m gp\u001B[38;5;241m.\u001B[39mquicksum(\u001B[38;5;28mself\u001B[39m\u001B[38;5;241m.\u001B[39mm[t, j, i] \u001B[38;5;28;01mfor\u001B[39;00m j \u001B[38;5;129;01min\u001B[39;00m \u001B[38;5;28mrange\u001B[39m(\u001B[38;5;28mself\u001B[39m\u001B[38;5;241m.\u001B[39mN))\n\u001B[0;32m    156\u001B[0m     \u001B[38;5;28;01mfor\u001B[39;00m i \u001B[38;5;129;01min\u001B[39;00m \u001B[38;5;28mrange\u001B[39m(\u001B[38;5;28mself\u001B[39m\u001B[38;5;241m.\u001B[39mN)\n\u001B[0;32m    157\u001B[0m )\n",
      "File \u001B[1;32msrc\\\\gurobipy\\\\model.pxi:3877\u001B[0m, in \u001B[0;36mgurobipy.Model.addConstrs\u001B[1;34m()\u001B[0m\n",
      "Cell \u001B[1;32mIn[11], line 144\u001B[0m, in \u001B[0;36m<genexpr>\u001B[1;34m(.0)\u001B[0m\n\u001B[0;32m    135\u001B[0m \u001B[38;5;28mself\u001B[39m\u001B[38;5;241m.\u001B[39mmodel\u001B[38;5;241m.\u001B[39maddConstrs(\n\u001B[0;32m    136\u001B[0m     \u001B[38;5;28mself\u001B[39m\u001B[38;5;241m.\u001B[39mp[t \u001B[38;5;241m+\u001B[39m \u001B[38;5;241m1\u001B[39m, i] \u001B[38;5;241m==\u001B[39m gp\u001B[38;5;241m.\u001B[39mquicksum(\u001B[38;5;28mself\u001B[39m\u001B[38;5;241m.\u001B[39mm[t, j, i] \u001B[38;5;241m*\u001B[39m \u001B[38;5;28mself\u001B[39m\u001B[38;5;241m.\u001B[39mp[t, j] \n\u001B[0;32m    137\u001B[0m                                     \u001B[38;5;28;01mfor\u001B[39;00m j \u001B[38;5;129;01min\u001B[39;00m \u001B[38;5;28mrange\u001B[39m(\u001B[38;5;28mself\u001B[39m\u001B[38;5;241m.\u001B[39mN))\n\u001B[0;32m    138\u001B[0m     \u001B[38;5;28;01mfor\u001B[39;00m i \u001B[38;5;129;01min\u001B[39;00m \u001B[38;5;28mrange\u001B[39m(\u001B[38;5;28mself\u001B[39m\u001B[38;5;241m.\u001B[39mN)\n\u001B[0;32m    139\u001B[0m )\n\u001B[0;32m    141\u001B[0m \u001B[38;5;66;03m# move selection constraint:\u001B[39;00m\n\u001B[0;32m    142\u001B[0m \u001B[38;5;66;03m# m_{t, j, i} == \\sum_{k=1}^K \\mu_{t, k} M_{k, j, i}\u001B[39;00m\n\u001B[0;32m    143\u001B[0m \u001B[38;5;28mself\u001B[39m\u001B[38;5;241m.\u001B[39mmodel\u001B[38;5;241m.\u001B[39maddConstrs(\n\u001B[1;32m--> 144\u001B[0m     \u001B[38;5;28mself\u001B[39m\u001B[38;5;241m.\u001B[39mm[t, j, i] \u001B[38;5;241m==\u001B[39m \u001B[43mgp\u001B[49m\u001B[38;5;241;43m.\u001B[39;49m\u001B[43mquicksum\u001B[49m\u001B[43m(\u001B[49m\u001B[43m(\u001B[49m\u001B[38;5;28;43mself\u001B[39;49m\u001B[38;5;241;43m.\u001B[39;49m\u001B[43mmoves\u001B[49m\u001B[43m[\u001B[49m\u001B[43mk\u001B[49m\u001B[43m]\u001B[49m\u001B[43m[\u001B[49m\u001B[43mi\u001B[49m\u001B[43m]\u001B[49m\u001B[43m \u001B[49m\u001B[38;5;241;43m==\u001B[39;49m\u001B[43m \u001B[49m\u001B[43mj\u001B[49m\u001B[43m)\u001B[49m\u001B[43m \u001B[49m\u001B[38;5;241;43m*\u001B[39;49m\u001B[43m \u001B[49m\u001B[38;5;28;43mself\u001B[39;49m\u001B[38;5;241;43m.\u001B[39;49m\u001B[43mmu\u001B[49m\u001B[43m[\u001B[49m\u001B[43mt\u001B[49m\u001B[43m,\u001B[49m\u001B[43m \u001B[49m\u001B[43mk\u001B[49m\u001B[43m]\u001B[49m\n\u001B[0;32m    145\u001B[0m \u001B[43m                                   \u001B[49m\u001B[38;5;28;43;01mfor\u001B[39;49;00m\u001B[43m \u001B[49m\u001B[43mk\u001B[49m\u001B[43m \u001B[49m\u001B[38;5;129;43;01min\u001B[39;49;00m\u001B[43m \u001B[49m\u001B[38;5;28;43mrange\u001B[39;49m\u001B[43m(\u001B[49m\u001B[38;5;28;43mself\u001B[39;49m\u001B[38;5;241;43m.\u001B[39;49m\u001B[43mK\u001B[49m\u001B[43m)\u001B[49m\u001B[43m)\u001B[49m\n\u001B[0;32m    146\u001B[0m     \u001B[38;5;28;01mfor\u001B[39;00m j \u001B[38;5;129;01min\u001B[39;00m \u001B[38;5;28mrange\u001B[39m(\u001B[38;5;28mself\u001B[39m\u001B[38;5;241m.\u001B[39mN) \u001B[38;5;28;01mfor\u001B[39;00m i \u001B[38;5;129;01min\u001B[39;00m \u001B[38;5;28mrange\u001B[39m(\u001B[38;5;28mself\u001B[39m\u001B[38;5;241m.\u001B[39mN)\n\u001B[0;32m    147\u001B[0m )\n\u001B[0;32m    149\u001B[0m \u001B[38;5;28mself\u001B[39m\u001B[38;5;241m.\u001B[39mmodel\u001B[38;5;241m.\u001B[39maddConstrs(\n\u001B[0;32m    150\u001B[0m     \u001B[38;5;241m1\u001B[39m \u001B[38;5;241m==\u001B[39m gp\u001B[38;5;241m.\u001B[39mquicksum(\u001B[38;5;28mself\u001B[39m\u001B[38;5;241m.\u001B[39mm[t, j, i] \u001B[38;5;28;01mfor\u001B[39;00m i \u001B[38;5;129;01min\u001B[39;00m \u001B[38;5;28mrange\u001B[39m(\u001B[38;5;28mself\u001B[39m\u001B[38;5;241m.\u001B[39mN))\n\u001B[0;32m    151\u001B[0m     \u001B[38;5;28;01mfor\u001B[39;00m j \u001B[38;5;129;01min\u001B[39;00m \u001B[38;5;28mrange\u001B[39m(\u001B[38;5;28mself\u001B[39m\u001B[38;5;241m.\u001B[39mN)\n\u001B[0;32m    152\u001B[0m )\n\u001B[0;32m    154\u001B[0m \u001B[38;5;28mself\u001B[39m\u001B[38;5;241m.\u001B[39mmodel\u001B[38;5;241m.\u001B[39maddConstrs(\n\u001B[0;32m    155\u001B[0m     \u001B[38;5;241m1\u001B[39m \u001B[38;5;241m==\u001B[39m gp\u001B[38;5;241m.\u001B[39mquicksum(\u001B[38;5;28mself\u001B[39m\u001B[38;5;241m.\u001B[39mm[t, j, i] \u001B[38;5;28;01mfor\u001B[39;00m j \u001B[38;5;129;01min\u001B[39;00m \u001B[38;5;28mrange\u001B[39m(\u001B[38;5;28mself\u001B[39m\u001B[38;5;241m.\u001B[39mN))\n\u001B[0;32m    156\u001B[0m     \u001B[38;5;28;01mfor\u001B[39;00m i \u001B[38;5;129;01min\u001B[39;00m \u001B[38;5;28mrange\u001B[39m(\u001B[38;5;28mself\u001B[39m\u001B[38;5;241m.\u001B[39mN)\n\u001B[0;32m    157\u001B[0m )\n",
      "File \u001B[1;32msrc\\\\gurobipy\\\\gurobi.pxi:3842\u001B[0m, in \u001B[0;36mgurobipy.quicksum\u001B[1;34m()\u001B[0m\n",
      "Cell \u001B[1;32mIn[11], line 144\u001B[0m, in \u001B[0;36m<genexpr>\u001B[1;34m(.0)\u001B[0m\n\u001B[0;32m    135\u001B[0m \u001B[38;5;28mself\u001B[39m\u001B[38;5;241m.\u001B[39mmodel\u001B[38;5;241m.\u001B[39maddConstrs(\n\u001B[0;32m    136\u001B[0m     \u001B[38;5;28mself\u001B[39m\u001B[38;5;241m.\u001B[39mp[t \u001B[38;5;241m+\u001B[39m \u001B[38;5;241m1\u001B[39m, i] \u001B[38;5;241m==\u001B[39m gp\u001B[38;5;241m.\u001B[39mquicksum(\u001B[38;5;28mself\u001B[39m\u001B[38;5;241m.\u001B[39mm[t, j, i] \u001B[38;5;241m*\u001B[39m \u001B[38;5;28mself\u001B[39m\u001B[38;5;241m.\u001B[39mp[t, j] \n\u001B[0;32m    137\u001B[0m                                     \u001B[38;5;28;01mfor\u001B[39;00m j \u001B[38;5;129;01min\u001B[39;00m \u001B[38;5;28mrange\u001B[39m(\u001B[38;5;28mself\u001B[39m\u001B[38;5;241m.\u001B[39mN))\n\u001B[0;32m    138\u001B[0m     \u001B[38;5;28;01mfor\u001B[39;00m i \u001B[38;5;129;01min\u001B[39;00m \u001B[38;5;28mrange\u001B[39m(\u001B[38;5;28mself\u001B[39m\u001B[38;5;241m.\u001B[39mN)\n\u001B[0;32m    139\u001B[0m )\n\u001B[0;32m    141\u001B[0m \u001B[38;5;66;03m# move selection constraint:\u001B[39;00m\n\u001B[0;32m    142\u001B[0m \u001B[38;5;66;03m# m_{t, j, i} == \\sum_{k=1}^K \\mu_{t, k} M_{k, j, i}\u001B[39;00m\n\u001B[0;32m    143\u001B[0m \u001B[38;5;28mself\u001B[39m\u001B[38;5;241m.\u001B[39mmodel\u001B[38;5;241m.\u001B[39maddConstrs(\n\u001B[1;32m--> 144\u001B[0m     \u001B[38;5;28mself\u001B[39m\u001B[38;5;241m.\u001B[39mm[t, j, i] \u001B[38;5;241m==\u001B[39m gp\u001B[38;5;241m.\u001B[39mquicksum((\u001B[38;5;28mself\u001B[39m\u001B[38;5;241m.\u001B[39mmoves[k][i] \u001B[38;5;241m==\u001B[39m j) \u001B[38;5;241m*\u001B[39m \u001B[38;5;28mself\u001B[39m\u001B[38;5;241m.\u001B[39mmu[t, k]\n\u001B[0;32m    145\u001B[0m                                    \u001B[38;5;28;01mfor\u001B[39;00m k \u001B[38;5;129;01min\u001B[39;00m \u001B[38;5;28mrange\u001B[39m(\u001B[38;5;28mself\u001B[39m\u001B[38;5;241m.\u001B[39mK))\n\u001B[0;32m    146\u001B[0m     \u001B[38;5;28;01mfor\u001B[39;00m j \u001B[38;5;129;01min\u001B[39;00m \u001B[38;5;28mrange\u001B[39m(\u001B[38;5;28mself\u001B[39m\u001B[38;5;241m.\u001B[39mN) \u001B[38;5;28;01mfor\u001B[39;00m i \u001B[38;5;129;01min\u001B[39;00m \u001B[38;5;28mrange\u001B[39m(\u001B[38;5;28mself\u001B[39m\u001B[38;5;241m.\u001B[39mN)\n\u001B[0;32m    147\u001B[0m )\n\u001B[0;32m    149\u001B[0m \u001B[38;5;28mself\u001B[39m\u001B[38;5;241m.\u001B[39mmodel\u001B[38;5;241m.\u001B[39maddConstrs(\n\u001B[0;32m    150\u001B[0m     \u001B[38;5;241m1\u001B[39m \u001B[38;5;241m==\u001B[39m gp\u001B[38;5;241m.\u001B[39mquicksum(\u001B[38;5;28mself\u001B[39m\u001B[38;5;241m.\u001B[39mm[t, j, i] \u001B[38;5;28;01mfor\u001B[39;00m i \u001B[38;5;129;01min\u001B[39;00m \u001B[38;5;28mrange\u001B[39m(\u001B[38;5;28mself\u001B[39m\u001B[38;5;241m.\u001B[39mN))\n\u001B[0;32m    151\u001B[0m     \u001B[38;5;28;01mfor\u001B[39;00m j \u001B[38;5;129;01min\u001B[39;00m \u001B[38;5;28mrange\u001B[39m(\u001B[38;5;28mself\u001B[39m\u001B[38;5;241m.\u001B[39mN)\n\u001B[0;32m    152\u001B[0m )\n\u001B[0;32m    154\u001B[0m \u001B[38;5;28mself\u001B[39m\u001B[38;5;241m.\u001B[39mmodel\u001B[38;5;241m.\u001B[39maddConstrs(\n\u001B[0;32m    155\u001B[0m     \u001B[38;5;241m1\u001B[39m \u001B[38;5;241m==\u001B[39m gp\u001B[38;5;241m.\u001B[39mquicksum(\u001B[38;5;28mself\u001B[39m\u001B[38;5;241m.\u001B[39mm[t, j, i] \u001B[38;5;28;01mfor\u001B[39;00m j \u001B[38;5;129;01min\u001B[39;00m \u001B[38;5;28mrange\u001B[39m(\u001B[38;5;28mself\u001B[39m\u001B[38;5;241m.\u001B[39mN))\n\u001B[0;32m    156\u001B[0m     \u001B[38;5;28;01mfor\u001B[39;00m i \u001B[38;5;129;01min\u001B[39;00m \u001B[38;5;28mrange\u001B[39m(\u001B[38;5;28mself\u001B[39m\u001B[38;5;241m.\u001B[39mN)\n\u001B[0;32m    157\u001B[0m )\n",
      "\u001B[1;31mKeyboardInterrupt\u001B[0m: "
     ]
    }
   ],
   "source": [
    "from IPython.display import clear_output\n",
    "\n",
    "\n",
    "for id in sorted(id_puzzle.keys()):\n",
    "    if id < 338:  # globes\n",
    "        continue\n",
    "        \n",
    "    solve_and_log(id, max_tries=1)\n",
    "    \n",
    "    clear_output(wait=True) \n",
    "    "
   ],
   "metadata": {
    "collapsed": false,
    "ExecuteTime": {
     "end_time": "2023-12-29T16:23:44.678053Z",
     "start_time": "2023-12-29T16:23:43.880969400Z"
    }
   },
   "id": "f9354001a4dd89cc"
  },
  {
   "cell_type": "code",
   "execution_count": 30,
   "outputs": [
    {
     "name": "stdout",
     "output_type": "stream",
     "text": [
      "cube_4/4/4\n"
     ]
    }
   ],
   "source": [
    "fst_type = list(type_moveset.keys())[2]\n",
    "fst_moveset = type_moveset[fst_type]\n",
    "print(fst_type)\n",
    "\n",
    "movetree = MoveTree(fst_moveset)"
   ],
   "metadata": {
    "collapsed": false,
    "ExecuteTime": {
     "end_time": "2023-12-29T16:32:25.596387700Z",
     "start_time": "2023-12-29T16:32:25.575524200Z"
    }
   },
   "id": "b526c50526f76e1d"
  },
  {
   "cell_type": "code",
   "execution_count": 31,
   "outputs": [
    {
     "name": "stdout",
     "output_type": "stream",
     "text": [
      "24\n"
     ]
    }
   ],
   "source": [
    "print(len(movetree.moveset.moves.values()))"
   ],
   "metadata": {
    "collapsed": false,
    "ExecuteTime": {
     "end_time": "2023-12-29T16:32:26.130994Z",
     "start_time": "2023-12-29T16:32:26.124976Z"
    }
   },
   "id": "bdda337e406acc07"
  },
  {
   "cell_type": "code",
   "execution_count": 33,
   "outputs": [
    {
     "data": {
      "text/plain": "  0%|          | 0/346200 [00:00<?, ?it/s]",
      "application/vnd.jupyter.widget-view+json": {
       "version_major": 2,
       "version_minor": 0,
       "model_id": "b22b9e630df74c1282a0fcc7102ac2af"
      }
     },
     "metadata": {},
     "output_type": "display_data"
    }
   ],
   "source": [
    "movetree.build(max_depth=4)"
   ],
   "metadata": {
    "collapsed": false,
    "ExecuteTime": {
     "end_time": "2023-12-29T16:32:47.226251100Z",
     "start_time": "2023-12-29T16:32:32.410260400Z"
    }
   },
   "id": "bc801eb020203d63"
  },
  {
   "cell_type": "code",
   "execution_count": 34,
   "outputs": [
    {
     "name": "stdout",
     "output_type": "stream",
     "text": [
      "[ 0  1  2  3  4  5  6  7  8  9 10 11 79 75 71 67 28 24 20 16 29 25 21 17\n",
      " 30 26 22 18 31 27 23 19 12 33 34 35 13 37 38 39 14 41 42 43 15 45 46 47\n",
      " 48 49 50 51 52 53 54 55 56 57 58 59 60 61 62 63 64 65 66 80 68 69 70 81\n",
      " 72 73 74 82 76 77 78 83 44 40 36 32 84 85 86 87 88 89 90 91 92 93 94 95]\n"
     ]
    }
   ],
   "source": [
    "print(movetree.root.children[0].state)"
   ],
   "metadata": {
    "collapsed": false,
    "ExecuteTime": {
     "end_time": "2023-12-29T16:33:38.747417500Z",
     "start_time": "2023-12-29T16:33:38.744882Z"
    }
   },
   "id": "e93371e603a78bee"
  },
  {
   "cell_type": "code",
   "execution_count": 35,
   "outputs": [
    {
     "name": "stdout",
     "output_type": "stream",
     "text": [
      "744\n"
     ]
    }
   ],
   "source": [
    "terminal_nodes = movetree.get_terminal_nodes()\n",
    "print(len(terminal_nodes))"
   ],
   "metadata": {
    "collapsed": false,
    "ExecuteTime": {
     "end_time": "2023-12-29T16:33:40.923815100Z",
     "start_time": "2023-12-29T16:33:40.919306900Z"
    }
   },
   "id": "52c6f7b6e3247172"
  },
  {
   "cell_type": "code",
   "execution_count": 39,
   "outputs": [
    {
     "name": "stdout",
     "output_type": "stream",
     "text": [
      "744\n",
      "4\n",
      "r1.f1.-f1.-r1\n",
      "4\n",
      "d0.f1.-f1.-d0\n",
      "4\n",
      "f3.-r3.r3.-f3\n",
      "4\n",
      "r1.r1.r1.r1\n",
      "4\n",
      "r0.r0.r0.r0\n",
      "4\n",
      "-d0.-d0.d0.d0\n",
      "4\n",
      "d0.f3.-f3.-d0\n",
      "4\n",
      "-f2.f2\n",
      "4\n",
      "-d0.d1.d0.-d1\n",
      "4\n",
      "-r2.-r1.r2.r1\n"
     ]
    }
   ],
   "source": [
    "nodename_paths: set[str] = set()\n",
    "for terminal_node in terminal_nodes:\n",
    "    node_path = [terminal_node]\n",
    "    \n",
    "    node = terminal_node\n",
    "    while node.parent is not None:\n",
    "        node = node.parent\n",
    "        node_path.append(node)\n",
    "        \n",
    "    node_path = list(reversed(node_path))\n",
    "    nodename_path = []\n",
    "    for i, node in enumerate(node_path[:-1]):\n",
    "        nodename_path.append(movetree.branches[node, node_path[i+1]].name)\n",
    "        \n",
    "    nodename_paths.add(\".\".join(nodename_path))\n",
    "    \n",
    "print(len(nodename_paths))\n",
    "nodename_paths_iter = iter(nodename_paths)\n",
    "for _ in range(10):\n",
    "    print(len(next(nodename_paths_iter).split(\".\")))\n",
    "    print(next(nodename_paths_iter))\n",
    "    "
   ],
   "metadata": {
    "collapsed": false,
    "ExecuteTime": {
     "end_time": "2023-12-29T16:34:47.695417300Z",
     "start_time": "2023-12-29T16:34:47.688573400Z"
    }
   },
   "id": "cee9079516f7d250"
  }
 ],
 "metadata": {
  "kernelspec": {
   "display_name": "Python 3",
   "language": "python",
   "name": "python3"
  },
  "language_info": {
   "codemirror_mode": {
    "name": "ipython",
    "version": 2
   },
   "file_extension": ".py",
   "mimetype": "text/x-python",
   "name": "python",
   "nbconvert_exporter": "python",
   "pygments_lexer": "ipython2",
   "version": "2.7.6"
  }
 },
 "nbformat": 4,
 "nbformat_minor": 5
}
